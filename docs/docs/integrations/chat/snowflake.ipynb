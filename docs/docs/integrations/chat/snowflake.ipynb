{
 "cells": [
  {
   "cell_type": "markdown",
   "metadata": {},
   "source": [
    "# Snowflake Cortex\n",
    "\n",
    "[Snowflake Cortex](https://docs.snowflake.com/en/user-guide/snowflake-cortex/llm-functions) gives you instant access to industry-leading large language models (LLMs) trained by researchers at companies like Mistral, Reka, Meta, and Google, including [Snowflake Arctic](https://www.snowflake.com/en/data-cloud/arctic/), an open enterprise-grade model developed by Snowflake.\n",
    "\n",
    "This example goes over how to use LangChain to interact with Snowflake Cortex."
   ]
  },
  {
   "cell_type": "markdown",
   "metadata": {},
   "source": [
    "### Installation and setup\n",
    "\n",
    "We start by installing the `snowflake-snowpark-python` library, using the command below. Then we configure the credentials for connecting to Snowflake, as environment variables or pass them directly."
   ]
  },
  {
   "cell_type": "code",
   "execution_count": 1,
   "metadata": {},
   "outputs": [
    {
     "name": "stdout",
     "output_type": "stream",
     "text": [
      "Note: you may need to restart the kernel to use updated packages.\n"
     ]
    }
   ],
   "source": [
    "%pip install --upgrade --quiet snowflake-snowpark-python"
   ]
  },
  {
   "cell_type": "code",
   "execution_count": 2,
   "metadata": {},
   "outputs": [],
   "source": [
    "import getpass\n",
    "import os\n",
    "\n",
    "# First step is to set up the environment variables, to connect to Snowflake,\n",
    "# you can also pass these snowflake credentials while instantiating the model\n",
    "\n",
    "if os.environ.get(\"SNOWFLAKE_ACCOUNT\") is None:\n",
    "    os.environ[\"SNOWFLAKE_ACCOUNT\"] = getpass.getpass(\"Account: \")\n",
    "\n",
    "if os.environ.get(\"SNOWFLAKE_USERNAME\") is None:\n",
    "    os.environ[\"SNOWFLAKE_USERNAME\"] = getpass.getpass(\"Username: \")\n",
    "\n",
    "if os.environ.get(\"SNOWFLAKE_PASSWORD\") is None:\n",
    "    os.environ[\"SNOWFLAKE_PASSWORD\"] = getpass.getpass(\"Password: \")\n",
    "\n",
    "if os.environ.get(\"SNOWFLAKE_DATABASE\") is None:\n",
    "    os.environ[\"SNOWFLAKE_DATABASE\"] = getpass.getpass(\"Database: \")\n",
    "\n",
    "if os.environ.get(\"SNOWFLAKE_SCHEMA\") is None:\n",
    "    os.environ[\"SNOWFLAKE_SCHEMA\"] = getpass.getpass(\"Schema: \")\n",
    "\n",
    "if os.environ.get(\"SNOWFLAKE_WAREHOUSE\") is None:\n",
    "    os.environ[\"SNOWFLAKE_WAREHOUSE\"] = getpass.getpass(\"Warehouse: \")\n",
    "\n",
    "if os.environ.get(\"SNOWFLAKE_ROLE\") is None:\n",
    "    os.environ[\"SNOWFLAKE_ROLE\"] = getpass.getpass(\"Role: \")"
   ]
  },
  {
   "cell_type": "code",
   "execution_count": 8,
   "metadata": {},
   "outputs": [],
   "source": [
    "from langchain_community.chat_models import ChatSnowflakeCortex\n",
    "from langchain_core.messages import HumanMessage, SystemMessage\n",
    "\n",
    "# By default, we'll be using the cortex provided model: `snowflake-arctic`, with function: `complete`\n",
    "chat = ChatSnowflakeCortex()"
   ]
  },
  {
   "cell_type": "markdown",
   "metadata": {},
   "source": [
    "The above cell assumes that your Snowflake credentials are set in your environment variables. If you would rather manually specify them, use the following code:\n",
    "\n",
    "```python\n",
    "chat = ChatSnowflakeCortex(\n",
    "    # change default cortex model and function\n",
    "    model=\"snowflake-arctic\",\n",
    "    cortex_function=\"complete\",\n",
    "\n",
    "    # change default generation parameters\n",
    "    temperature=0,\n",
    "    max_tokens=10,\n",
    "    top_p=0.95,\n",
    "\n",
    "    # specify snowflake credentials\n",
    "    account=\"YOUR_SNOWFLAKE_ACCOUNT\",\n",
    "    username=\"YOUR_SNOWFLAKE_USERNAME\",\n",
    "    password=\"YOUR_SNOWFLAKE_PASSWORD\",\n",
    "    database=\"YOUR_SNOWFLAKE_DATABASE\",\n",
    "    schema=\"YOUR_SNOWFLAKE_SCHEMA\",\n",
    "    role=\"YOUR_SNOWFLAKE_ROLE\",\n",
    "    warehouse=\"YOUR_SNOWFLAKE_WAREHOUSE\"\n",
    ")\n",
    "```"
   ]
  },
  {
   "cell_type": "markdown",
   "metadata": {},
   "source": [
    "### Calling the model\n",
    "We can now call the model using the `invoke` or `generate` method.\n",
    "\n",
    "#### Generation"
   ]
  },
  {
   "cell_type": "code",
   "execution_count": 9,
   "metadata": {},
   "outputs": [
    {
     "data": {
      "text/plain": [
       "AIMessage(content=\" Large language models are artificial intelligence systems designed to understand, generate, and manipulate human language. These models are typically based on deep learning techniques and are trained on vast amounts of text data to learn patterns and structures in language. They can perform a wide range of language-related tasks, such as language translation, text generation, sentiment analysis, and answering questions. Some well-known large language models include Google's BERT, OpenAI's GPT series, and Facebook's RoBERTa. These models have shown remarkable performance in various natural language processing tasks, and their applications continue to expand as research in AI progresses.\", response_metadata={'completion_tokens': 131, 'prompt_tokens': 29, 'total_tokens': 160}, id='run-5435bd0a-83fd-4295-b237-66cbd1b5c0f3-0')"
      ]
     },
     "execution_count": 9,
     "metadata": {},
     "output_type": "execute_result"
    }
   ],
   "source": [
    "messages = [\n",
    "    SystemMessage(content=\"You are a friendly assistant.\"),\n",
    "    HumanMessage(content=\"What are large language models?\"),\n",
    "]\n",
    "chat.invoke(messages)"
   ]
  },
  {
   "cell_type": "markdown",
   "metadata": {},
   "source": [
    "### Streaming\n",
    "`ChatSnowflakeCortex` doesn't support streaming as of now. Support for streaming will be coming in the later versions!"
   ]
  }
 ],
 "metadata": {
  "kernelspec": {
   "display_name": ".venv",
   "language": "python",
   "name": "python3"
  },
  "language_info": {
   "codemirror_mode": {
    "name": "ipython",
    "version": 3
   },
   "file_extension": ".py",
   "mimetype": "text/x-python",
   "name": "python",
   "nbconvert_exporter": "python",
   "pygments_lexer": "ipython3",
   "version": "3.11.9"
  }
 },
 "nbformat": 4,
 "nbformat_minor": 2
}
